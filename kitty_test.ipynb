{
 "cells": [
  {
   "cell_type": "code",
   "execution_count": 1,
   "id": "7a939325-ddc2-4e3c-baf8-9c8bdda1b041",
   "metadata": {},
   "outputs": [],
   "source": [
    "import kitty"
   ]
  },
  {
   "cell_type": "code",
   "execution_count": 10,
   "id": "1e66becd-e959-4ac9-9e4e-05c48039cc70",
   "metadata": {},
   "outputs": [],
   "source": [
    "Persian_Cat = kitty.kitty()"
   ]
  },
  {
   "cell_type": "code",
   "execution_count": 11,
   "id": "08c2f6cb-e177-47ab-92d9-51d9295d8480",
   "metadata": {},
   "outputs": [
    {
     "data": {
      "text/plain": [
       "<kitty.kitty; proxy of <Swig Object of type 'kitty *' at 0x7f4f716720d0> >"
      ]
     },
     "execution_count": 11,
     "metadata": {},
     "output_type": "execute_result"
    }
   ],
   "source": [
    "Persian_Cat"
   ]
  },
  {
   "cell_type": "code",
   "execution_count": 13,
   "id": "fa06cc05-dd34-4724-98b3-74c362ae81bf",
   "metadata": {},
   "outputs": [],
   "source": [
    "Persian_Cat.speak()"
   ]
  },
  {
   "cell_type": "code",
   "execution_count": 14,
   "id": "50f67032-950c-459b-a605-7e42893a8de9",
   "metadata": {},
   "outputs": [],
   "source": [
    "Persian_Cat.speak2()"
   ]
  },
  {
   "cell_type": "markdown",
   "id": "764a2595-b1fb-4805-86f5-f6dfc859ffc7",
   "metadata": {},
   "source": [
    "OK that doesn't seem to work?"
   ]
  },
  {
   "cell_type": "code",
   "execution_count": null,
   "id": "f932fda4-3b17-4772-b0ce-01b6ecee48e8",
   "metadata": {},
   "outputs": [],
   "source": []
  }
 ],
 "metadata": {
  "kernelspec": {
   "display_name": "Python 3 (ipykernel)",
   "language": "python",
   "name": "python3"
  },
  "language_info": {
   "codemirror_mode": {
    "name": "ipython",
    "version": 3
   },
   "file_extension": ".py",
   "mimetype": "text/x-python",
   "name": "python",
   "nbconvert_exporter": "python",
   "pygments_lexer": "ipython3",
   "version": "3.12.10"
  }
 },
 "nbformat": 4,
 "nbformat_minor": 5
}
